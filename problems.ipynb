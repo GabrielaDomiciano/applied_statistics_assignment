{
 "cells": [
  {
   "cell_type": "markdown",
   "id": "b314e087",
   "metadata": {},
   "source": [
    "# Simulation and Statistical Inference Project\n",
    "\n",
    "This notebook contains four simulation-based problems designed to explore key concepts in statistical inference, using Python (NumPy, SciPy, Matplotlib). Each problem focuses on understanding core ideas through Monte Carlo simulation and visualization.\n",
    "\n",
    "-\n",
    "**Next Step:**  \n",
    "Begin implementing **Problem 1** — set up your imports, initialize the random generator, and outline the simulation logic for the Lady Tasting Tea extension.\n"
   ]
  },
  {
   "cell_type": "markdown",
   "id": "3807c075",
   "metadata": {},
   "source": [
    "## Problem 1 — Extending the Lady Tasting Tea\n",
    "\n",
    "**Objective:**  \n",
    "Extend the classic Lady Tasting Tea experiment by increasing the number of cups. Simulate random guessing to estimate the probability of correctly identifying all cups by chance in both the original and extended setups.\n",
    "\n",
    "**Key Concepts:**  \n",
    "- Combinatorics and probability by chance  \n",
    "- Simulation using random sampling  \n",
    "- Interpretation of p-values and significance levels\n",
    "\n",
    "**Steps:**  \n",
    "1. Describe the original experiment (8 cups: 4 tea-first, 4 milk-first).  \n",
    "2. Extend it to 12 cups (8 tea-first, 4 milk-first).  \n",
    "3. Simulate many random guesses.  \n",
    "4. Estimate and compare the probabilities.  \n",
    "5. Discuss implications for statistical significance."
   ]
  },
  {
   "cell_type": "markdown",
   "id": "762e8f45",
   "metadata": {},
   "source": [
    "https://docs.python.org/3/library/math.html#math.comb"
   ]
  },
  {
   "cell_type": "code",
   "execution_count": 45,
   "id": "593d181d",
   "metadata": {},
   "outputs": [],
   "source": [
    "# Simulation and Statistical Inference Project\n",
    "# Problem 1 — Extending the Lady Tasting Tea\n",
    "\n",
    "# Import libraries\n",
    "import numpy as np\n",
    "import math\n",
    "import matplotlib.pyplot as plt\n",
    "\n",
    "# Initialize random generator\n",
    "# every time we run the notebook, we’ll get exactly the same random results.\n",
    "# It initializes the random generator so results can be repeated consistently\n",
    "rng = np.random.default_rng(seed=42)  # for reproducibility\n"
   ]
  },
  {
   "cell_type": "markdown",
   "id": "b76a3391",
   "metadata": {},
   "source": [
    "\n",
    "\n",
    "In the original *Lady Tasting Tea* experiment:\n",
    "\n",
    "- There are **8 cups** of tea: **4 prepared with milk poured first** and **4 with tea poured first**.  \n",
    "- The lady’s task is to **correctly identify the 4 cups with milk poured first**.  \n",
    "- If she is **just guessing randomly**, there are  \n",
    "  \\[\n",
    "  C(8, 4) = 70\n",
    "  \\]\n",
    "  possible ways to choose 4 cups out of 8.  \n",
    "\n",
    "This means that, by chance alone, the probability of her selecting all four correct cups is  \n",
    "\\[\n",
    "\\frac{1}{70} \\approx 0.0143\n",
    "\\].\n"
   ]
  },
  {
   "cell_type": "code",
   "execution_count": 46,
   "id": "818390d7",
   "metadata": {},
   "outputs": [],
   "source": [
    "# Cups of Tea\n",
    "\n",
    "# Numbers of cups in total\n",
    "no_cups = 8\n",
    "\n",
    "# Number of cups of tea with milk in first\n",
    "no_cups_milk_first = 4\n",
    "\n",
    "# Number of cups of tea with tea first\n",
    "no_cups_tea_first = 4"
   ]
  },
  {
   "cell_type": "code",
   "execution_count": 47,
   "id": "3b70a3e7",
   "metadata": {},
   "outputs": [
    {
     "name": "stdout",
     "output_type": "stream",
     "text": [
      "70\n"
     ]
    }
   ],
   "source": [
    "#Calculate the number of ways to choose k elements from a set of n elements where the order of the chosen elements does not matter and no element is selected more than once.\n",
    "\n",
    "1 # Number of ways of selecting four cups from eight.\n",
    "\n",
    "\n",
    "ways = math.comb(no_cups, no_cups_milk_first)\n",
    "\n",
    "print(ways)\n"
   ]
  },
  {
   "cell_type": "code",
   "execution_count": 48,
   "id": "99d78876",
   "metadata": {},
   "outputs": [
    {
     "name": "stdout",
     "output_type": "stream",
     "text": [
      "70\n"
     ]
    }
   ],
   "source": [
    "# Total number of ways of selecting four cups from eight, keeping them in mind the order.\n",
    "\n",
    "# ways_ordered = math.perm(8, 4)\n",
    "ways_ordered = 8 * 7 * 6 * 5 * 4 * 3 * 2 * 1 // (4 * 3 * 2 * 1 * 4 * 3 * 2 * 1)\n",
    "\n",
    "print(ways_ordered)"
   ]
  },
  {
   "cell_type": "code",
   "execution_count": 49,
   "id": "6370f031",
   "metadata": {},
   "outputs": [
    {
     "name": "stdout",
     "output_type": "stream",
     "text": [
      "24\n"
     ]
    }
   ],
   "source": [
    "1 # No of ways of shuffling four cups.\n",
    "\n",
    "no_shuffles = 4 * 3 * 2 * 1\n",
    "\n",
    "print(no_shuffles)"
   ]
  },
  {
   "cell_type": "code",
   "execution_count": null,
   "id": "acd7ef0b",
   "metadata": {},
   "outputs": [],
   "source": []
  },
  {
   "cell_type": "markdown",
   "id": "02dcdf3e",
   "metadata": {},
   "source": [
    "---\n",
    "\n",
    "## Problem 2 — Normal Distribution and Sample vs Population SD\n",
    "\n",
    "**Objective:**  \n",
    "Compare the behavior of the sample standard deviation (`ddof=1`) and population standard deviation (`ddof=0`) when sampling from a standard normal distribution.\n",
    "\n",
    "**Key Concepts:**  \n",
    "- Sampling variation  \n",
    "- Bias in estimators  \n",
    "- The effect of sample size on variability\n",
    "\n",
    "**Steps:**  \n",
    "1. Generate multiple samples from a standard normal distribution.  \n",
    "2. Compute SDs using both `ddof=1` and `ddof=0`.  \n",
    "3. Visualize the distributions with overlaid histograms.  \n",
    "4. Interpret the differences and how they change with larger sample sizes.\n"
   ]
  },
  {
   "cell_type": "markdown",
   "id": "6953d97c",
   "metadata": {},
   "source": [
    "## Problem 3 — Type II Error and t-Tests\n",
    "\n",
    "**Objective:**  \n",
    "Simulate the behavior of Type II errors in t-tests as the difference between population means increases.\n",
    "\n",
    "**Key Concepts:**  \n",
    "- Type I and Type II errors  \n",
    "- Power of a statistical test  \n",
    "- The relationship between effect size and error rates\n",
    "\n",
    "**Steps:**  \n",
    "1. Define a range of true mean differences (d = 0 to 1).  \n",
    "2. Generate two samples for each d.  \n",
    "3. Perform an independent t-test.  \n",
    "4. Record how often the null hypothesis is not rejected.  \n",
    "5. Plot the Type II error rate as a function of d.  \n",
    "6. Discuss how power increases with effect size."
   ]
  },
  {
   "cell_type": "markdown",
   "id": "731fac6a",
   "metadata": {},
   "source": [
    "## Problem 4 — ANOVA vs Multiple t-Tests\n",
    "\n",
    "**Objective:**  \n",
    "Compare results from one-way ANOVA with results from multiple two-sample t-tests when analyzing group mean differences.\n",
    "\n",
    "**Key Concepts:**  \n",
    "- ANOVA as an omnibus test  \n",
    "- Multiple comparisons problem  \n",
    "- Controlling Type I error (family-wise error rate)\n",
    "\n",
    "**Steps:**  \n",
    "1. Generate three independent samples from normal distributions with different means.  \n",
    "2. Run a one-way ANOVA.  \n",
    "3. Perform pairwise t-tests (with and without correction).  \n",
    "4. Compare results and conclusions.  \n",
    "5. Explain why ANOVA is preferred before multiple t-tests.\n"
   ]
  },
  {
   "cell_type": "markdown",
   "id": "c962375d",
   "metadata": {},
   "source": []
  },
  {
   "cell_type": "markdown",
   "id": "732fa7cf",
   "metadata": {},
   "source": []
  },
  {
   "cell_type": "code",
   "execution_count": 50,
   "id": "b67f7362",
   "metadata": {},
   "outputs": [],
   "source": [
    "import yfinance as yf"
   ]
  },
  {
   "cell_type": "code",
   "execution_count": null,
   "id": "32a72ad4",
   "metadata": {},
   "outputs": [],
   "source": []
  },
  {
   "cell_type": "code",
   "execution_count": null,
   "id": "3ee89dee",
   "metadata": {},
   "outputs": [],
   "source": []
  }
 ],
 "metadata": {
  "kernelspec": {
   "display_name": "base",
   "language": "python",
   "name": "python3"
  },
  "language_info": {
   "codemirror_mode": {
    "name": "ipython",
    "version": 3
   },
   "file_extension": ".py",
   "mimetype": "text/x-python",
   "name": "python",
   "nbconvert_exporter": "python",
   "pygments_lexer": "ipython3",
   "version": "3.11.8"
  }
 },
 "nbformat": 4,
 "nbformat_minor": 5
}
